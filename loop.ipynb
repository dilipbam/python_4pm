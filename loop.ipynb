{
 "cells": [
  {
   "cell_type": "code",
   "execution_count": 1,
   "id": "bbe4486b",
   "metadata": {},
   "outputs": [],
   "source": [
    "# loop\n",
    "# for loop\n",
    "# while loop"
   ]
  },
  {
   "cell_type": "code",
   "execution_count": 2,
   "id": "efc0ef44",
   "metadata": {},
   "outputs": [],
   "source": [
    "# for loop\n"
   ]
  },
  {
   "cell_type": "code",
   "execution_count": 3,
   "id": "8e44a39c",
   "metadata": {},
   "outputs": [],
   "source": [
    "# range(5) -> 0,1,2,3,4               for(i =0; i<5; i++;)\n",
    "# range(1,5) -> 1,2,3,4               for(i = 1; i<5; i++;)\n",
    "# range(1,10,2) -> 1,3,5,7,9          for(i = 1; i<10; i = i+2)"
   ]
  },
  {
   "cell_type": "code",
   "execution_count": 4,
   "id": "7921ae4a",
   "metadata": {},
   "outputs": [
    {
     "name": "stdout",
     "output_type": "stream",
     "text": [
      "0\n",
      "1\n",
      "2\n",
      "3\n",
      "4\n"
     ]
    }
   ],
   "source": [
    "for i in range(5):\n",
    "    print(i)"
   ]
  },
  {
   "cell_type": "code",
   "execution_count": 6,
   "id": "a152ade3",
   "metadata": {},
   "outputs": [
    {
     "name": "stdout",
     "output_type": "stream",
     "text": [
      "0 Hello World\n",
      "1 Hello World\n",
      "2 Hello World\n",
      "3 Hello World\n",
      "4 Hello World\n"
     ]
    }
   ],
   "source": [
    "for i in range(5):\n",
    "    print(i,\"Hello World\")"
   ]
  },
  {
   "cell_type": "code",
   "execution_count": 8,
   "id": "21fbc426",
   "metadata": {},
   "outputs": [
    {
     "name": "stdout",
     "output_type": "stream",
     "text": [
      "1 2 3 4 "
     ]
    }
   ],
   "source": [
    "for i in range(1,5):\n",
    "    print(i,end=\" \")"
   ]
  },
  {
   "cell_type": "code",
   "execution_count": 9,
   "id": "b1907689",
   "metadata": {},
   "outputs": [
    {
     "name": "stdout",
     "output_type": "stream",
     "text": [
      "1 3 5 7 9 "
     ]
    }
   ],
   "source": [
    "for i in range(1,10,2):\n",
    "    print(i,end=\" \")"
   ]
  },
  {
   "cell_type": "code",
   "execution_count": 10,
   "id": "b6512108",
   "metadata": {},
   "outputs": [
    {
     "name": "stdout",
     "output_type": "stream",
     "text": [
      "0 2 4 6 8 10 12 14 16 18 20 "
     ]
    }
   ],
   "source": [
    "for i in range(0,21,2):\n",
    "    print(i,end=\" \")"
   ]
  },
  {
   "cell_type": "code",
   "execution_count": 13,
   "id": "e8e151fa",
   "metadata": {},
   "outputs": [
    {
     "name": "stdout",
     "output_type": "stream",
     "text": [
      "Enter x = 2\n",
      "2\n",
      "4\n",
      "6\n",
      "8\n",
      "10\n",
      "12\n",
      "14\n",
      "16\n",
      "18\n",
      "20\n"
     ]
    }
   ],
   "source": [
    "x = int(input(\"Enter x = \"))\n",
    "for i in range(1,11):\n",
    "    print(x*i)"
   ]
  },
  {
   "cell_type": "code",
   "execution_count": 14,
   "id": "69c52d4a",
   "metadata": {},
   "outputs": [
    {
     "name": "stdout",
     "output_type": "stream",
     "text": [
      "Enter x = 2\n",
      "2 * 1 = 2\n",
      "2 * 2 = 4\n",
      "2 * 3 = 6\n",
      "2 * 4 = 8\n",
      "2 * 5 = 10\n",
      "2 * 6 = 12\n",
      "2 * 7 = 14\n",
      "2 * 8 = 16\n",
      "2 * 9 = 18\n",
      "2 * 10 = 20\n"
     ]
    }
   ],
   "source": [
    "x = int(input(\"Enter x = \"))\n",
    "for i in range(1,11):\n",
    "    print(x,\"*\",i,\"=\",x*i)"
   ]
  },
  {
   "cell_type": "code",
   "execution_count": 16,
   "id": "d4ef215a",
   "metadata": {},
   "outputs": [
    {
     "name": "stdout",
     "output_type": "stream",
     "text": [
      "Enter x = 234\n",
      "Enter x = 45\n",
      "Enter x = 234\n",
      "Enter x = 56\n",
      "Enter x = 34\n",
      "You entered  34\n"
     ]
    }
   ],
   "source": [
    "for i in range(5):\n",
    "    x = int(input(\"Enter x = \"))\n",
    "    \n",
    "print(\"You entered \",x)"
   ]
  },
  {
   "cell_type": "code",
   "execution_count": 17,
   "id": "8001ea97",
   "metadata": {},
   "outputs": [
    {
     "name": "stdout",
     "output_type": "stream",
     "text": [
      "Enter x = 1000\n",
      "Your balance is =   1000\n",
      "Enter x = 1200\n",
      "Your balance is =   2200\n",
      "Enter x = 4500\n",
      "Your balance is =   6700\n",
      "Enter x = 2000\n",
      "Your balance is =   8700\n",
      "Enter x = 4000\n",
      "Your balance is =   12700\n"
     ]
    }
   ],
   "source": [
    "s = 0\n",
    "for i in range(5):\n",
    "    x = int(input(\"Enter x = \"))\n",
    "    s = s + x\n",
    "    print(\"Your balance is =  \",s)"
   ]
  },
  {
   "cell_type": "code",
   "execution_count": 18,
   "id": "3f7321cd",
   "metadata": {},
   "outputs": [
    {
     "name": "stdout",
     "output_type": "stream",
     "text": [
      "Enter n = 2\n",
      "Enter x = 324\n",
      "Your balance is =   324\n",
      "Enter x = 54\n",
      "Your balance is =   378\n"
     ]
    }
   ],
   "source": [
    "s = 0\n",
    "n = int(input(\"Enter n = \"))\n",
    "for i in range(n):\n",
    "    x = int(input(\"Enter x = \"))\n",
    "    s = s + x\n",
    "    print(\"Your balance is =  \",s)"
   ]
  },
  {
   "cell_type": "code",
   "execution_count": 19,
   "id": "1144bfae",
   "metadata": {},
   "outputs": [
    {
     "name": "stdout",
     "output_type": "stream",
     "text": [
      "Enter n = 3\n",
      "Enter x = 123\n",
      "Your out is =   0\n",
      "Enter x = 345\n",
      "Your out is =   0\n",
      "Enter x = 456\n",
      "Your out is =   0\n"
     ]
    }
   ],
   "source": [
    "s = 1\n",
    "n = int(input(\"Enter n = \"))\n",
    "for i in range(n):\n",
    "    x = int(input(\"Enter x = \"))\n",
    "    s = s * x\n",
    "    print(\"Your out is =  \",s)"
   ]
  },
  {
   "cell_type": "code",
   "execution_count": 20,
   "id": "051b50b7",
   "metadata": {},
   "outputs": [
    {
     "data": {
      "text/plain": [
       "'Ball'"
      ]
     },
     "execution_count": 20,
     "metadata": {},
     "output_type": "execute_result"
    }
   ],
   "source": [
    "a = \"\"\n",
    "b = \"Ball\"\n",
    "c = a+b\n",
    "c"
   ]
  },
  {
   "cell_type": "code",
   "execution_count": 25,
   "id": "4a515c59",
   "metadata": {},
   "outputs": [
    {
     "name": "stdout",
     "output_type": "stream",
     "text": [
      "Enter n = 3\n",
      "Enter x = Ram\n",
      "Enter x = Sita\n",
      "Enter x = Hari\n",
      "Ram\n",
      "Sita\n",
      "Hari\n",
      "\n"
     ]
    }
   ],
   "source": [
    "s = ''\n",
    "n = int(input(\"Enter n = \"))\n",
    "for i in range(n):\n",
    "    x = input(\"Enter x = \")\n",
    "    s = s + x + \"\\n\"\n",
    "    \n",
    "print(s)"
   ]
  },
  {
   "cell_type": "code",
   "execution_count": 27,
   "id": "4dd04711",
   "metadata": {},
   "outputs": [
    {
     "name": "stdout",
     "output_type": "stream",
     "text": [
      "Enter n = 2\n",
      "Enter name = Ram\n",
      "Entre phone = 9808778765\n",
      "Enter name = Shyam\n",
      "Entre phone = 9808556543\n",
      "Ram-9808778765\n",
      "Shyam-9808556543\n",
      "\n"
     ]
    }
   ],
   "source": [
    "s = ''\n",
    "n = int(input(\"Enter n = \"))\n",
    "for i in range(n):\n",
    "    name = input(\"Enter name = \")\n",
    "    phone = input(\"Entre phone = \")\n",
    "    s = s + name + \"-\" + phone + \"\\n\"\n",
    "    \n",
    "print(s)"
   ]
  },
  {
   "cell_type": "code",
   "execution_count": null,
   "id": "8143d05b",
   "metadata": {},
   "outputs": [],
   "source": []
  }
 ],
 "metadata": {
  "kernelspec": {
   "display_name": "Python 3 (ipykernel)",
   "language": "python",
   "name": "python3"
  },
  "language_info": {
   "codemirror_mode": {
    "name": "ipython",
    "version": 3
   },
   "file_extension": ".py",
   "mimetype": "text/x-python",
   "name": "python",
   "nbconvert_exporter": "python",
   "pygments_lexer": "ipython3",
   "version": "3.9.12"
  }
 },
 "nbformat": 4,
 "nbformat_minor": 5
}
